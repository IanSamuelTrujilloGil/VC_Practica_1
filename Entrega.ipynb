{
 "cells": [
  {
   "cell_type": "markdown",
   "id": "7bf2174f",
   "metadata": {},
   "source": [
    "## TAREA 1: Crea una imagen, p.e. de 800x800 píxeles, con la textura del tablero de ajedrez."
   ]
  },
  {
   "cell_type": "markdown",
   "id": "8947b222",
   "metadata": {},
   "source": [
    "## TAREA 2: Crear una imagen estilo Mondrian (un ejemplo https://www3.gobiernodecanarias.org/medusa/ecoescuela/sa/2017/04/17/descubriendo-a-mondrian/ ) con las funciones de dibujo de OpenCV."
   ]
  },
  {
   "cell_type": "markdown",
   "id": "799a8700",
   "metadata": {},
   "source": [
    "## TAREA 3: Modifica de forma libre los valores de un plano de la imagen."
   ]
  },
  {
   "cell_type": "markdown",
   "id": "19891980",
   "metadata": {},
   "source": [
    "## TAREA 4: Pintar círculos en las posiciones del píxel más claro y oscuro de la imagen ¿Si quisieras hacerlo sobre la zona 8x8 más clara/oscura?."
   ]
  },
  {
   "cell_type": "markdown",
   "id": "e538eea6",
   "metadata": {},
   "source": [
    "## TAREA 5: Llevar a cabo una propuesta propia de pop art."
   ]
  }
 ],
 "metadata": {
  "kernelspec": {
   "display_name": "VC_1",
   "language": "python",
   "name": "python3"
  },
  "language_info": {
   "codemirror_mode": {
    "name": "ipython",
    "version": 3
   },
   "file_extension": ".py",
   "mimetype": "text/x-python",
   "name": "python",
   "nbconvert_exporter": "python",
   "pygments_lexer": "ipython3",
   "version": "3.11.5"
  }
 },
 "nbformat": 4,
 "nbformat_minor": 5
}
