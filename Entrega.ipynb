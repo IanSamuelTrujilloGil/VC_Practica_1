{
 "cells": [
  {
   "cell_type": "markdown",
   "id": "7a8efde1",
   "metadata": {},
   "source": [
    "## Librerías necesarias."
   ]
  },
  {
   "cell_type": "code",
   "execution_count": 7,
   "id": "a12ceb40",
   "metadata": {},
   "outputs": [],
   "source": [
    "import cv2  \n",
    "import numpy as np\n",
    "import matplotlib.pyplot as plt"
   ]
  },
  {
   "cell_type": "markdown",
   "id": "7bf2174f",
   "metadata": {},
   "source": [
    "## TAREA 1: Crea una imagen, p.e. de 800x800 píxeles, con la textura del tablero de ajedrez.\n",
    "\n",
    "En esta tarea se genera una imagen en escala de grises de 800x800 píxeles, dividiendo la superficie en 8 filas y 8 columnas.\n",
    "Cada celda tiene un tamaño de 100x100 píxeles. Se rellenan de blanco únicamente las celdas alternas correspondientes, mientras que las restantes permanecen negras gracias al fondo inicial, creando así la textura de un tablero de ajedrez. Finalmente, la imagen se guarda en disco y se muestra en pantalla."
   ]
  },
  {
   "cell_type": "code",
   "execution_count": 8,
   "id": "2d8a057f",
   "metadata": {},
   "outputs": [
    {
     "data": {
      "image/png": "[encoded data removed]",
      "text/plain": [
       "<Figure size 640x480 with 1 Axes>"
      ]
     },
     "metadata": {},
     "output_type": "display_data"
    }
   ],
   "source": [
    "# Defining size of the image.\n",
    "height = 800\n",
    "width = 800\n",
    "\n",
    "# Create a black image\n",
    "chess_image = np.zeros((height,width,1), dtype = np.uint8)\n",
    "\n",
    "# Calculate the size of each chessboard cell (8x8 board)\n",
    "cell_size = height // 8\n",
    "\n",
    "# Loop over the image in steps of cell_size for both rows and columns\n",
    "for y in range(0, height, cell_size):\n",
    "    for x in range(0, width, cell_size):\n",
    "        # Determine the current row and column of the chessboard\n",
    "        row = y // cell_size\n",
    "        colm  = x // cell_size\n",
    "        \n",
    "        # Skip cells where the sum of row and column is odd (for alternating pattern)\n",
    "        if (row + colm) % 2 != 0:\n",
    "            continue\n",
    "        \n",
    "        # Painting a white cell\n",
    "        chess_image[y:y+cell_size, x:x+cell_size] = 255\n",
    "\n",
    "# Save the generated chessboard image as a PNG file   \n",
    "cv2.imwrite('chessboard.png', chess_image)\n",
    "# Display the image using a grayscale color map\n",
    "plt.imshow(chess_image, cmap='gray') \n",
    "plt.show()"
   ]
  },
  {
   "cell_type": "markdown",
   "id": "8947b222",
   "metadata": {},
   "source": [
    "## TAREA 2: Crear una imagen estilo Mondrian (un ejemplo https://www3.gobiernodecanarias.org/medusa/ecoescuela/sa/2017/04/17/descubriendo-a-mondrian/ ) con las funciones de dibujo de OpenCV."
   ]
  },
  {
   "cell_type": "markdown",
   "id": "799a8700",
   "metadata": {},
   "source": [
    "## TAREA 3: Modifica de forma libre los valores de un plano de la imagen."
   ]
  },
  {
   "cell_type": "markdown",
   "id": "19891980",
   "metadata": {},
   "source": [
    "## TAREA 4: Pintar círculos en las posiciones del píxel más claro y oscuro de la imagen ¿Si quisieras hacerlo sobre la zona 8x8 más clara/oscura?."
   ]
  },
  {
   "cell_type": "markdown",
   "id": "e538eea6",
   "metadata": {},
   "source": [
    "## TAREA 5: Llevar a cabo una propuesta propia de pop art."
   ]
  }
 ],
 "metadata": {
  "kernelspec": {
   "display_name": "VC_1",
   "language": "python",
   "name": "python3"
  },
  "language_info": {
   "codemirror_mode": {
    "name": "ipython",
    "version": 3
   },
   "file_extension": ".py",
   "mimetype": "text/x-python",
   "name": "python",
   "nbconvert_exporter": "python",
   "pygments_lexer": "ipython3",
   "version": "3.11.5"
  }
 },
 "nbformat": 4,
 "nbformat_minor": 5
}
