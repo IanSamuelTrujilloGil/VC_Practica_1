{
 "cells": [
  {
   "cell_type": "markdown",
   "id": "7a8efde1",
   "metadata": {},
   "source": [
    "## Librerías necesarias."
   ]
  },
  {
   "cell_type": "code",
   "execution_count": 4,
   "id": "a12ceb40",
   "metadata": {},
   "outputs": [],
   "source": [
    "import cv2  \n",
    "import numpy as np\n",
    "import matplotlib.pyplot as plt"
   ]
  },
  {
   "cell_type": "markdown",
   "id": "7bf2174f",
   "metadata": {},
   "source": [
    "## TAREA 1: Crea una imagen, p.e. de 800x800 píxeles, con la textura del tablero de ajedrez.\n",
    "\n",
    "En esta tarea se genera una imagen en escala de grises de 800x800 píxeles, dividiendo la superficie en 8 filas y 8 columnas.\n",
    "Cada celda tiene un tamaño de 100x100 píxeles. Se rellenan de blanco únicamente las celdas alternas correspondientes, mientras que las restantes permanecen negras gracias al fondo inicial, creando así la textura de un tablero de ajedrez. Finalmente, la imagen se guarda en disco y se muestra en pantalla."
   ]
  },
  {
   "cell_type": "code",
   "execution_count": 5,
   "id": "2d8a057f",
   "metadata": {},
   "outputs": [
    {
     "data": {
      "image/png": "[encoded data removed]",
      "text/plain": [
       "<Figure size 640x480 with 1 Axes>"
      ]
     },
     "metadata": {},
     "output_type": "display_data"
    }
   ],
   "source": [
    "# Defining size of the image.\n",
    "height = 800\n",
    "width = 800\n",
    "\n",
    "# Create a black image\n",
    "chess_image = np.zeros((height,width,1), dtype = np.uint8)\n",
    "\n",
    "# Calculate the size of each chessboard cell (8x8 board)\n",
    "cell_size = height // 8\n",
    "\n",
    "# Loop over the image in steps of cell_size for both rows and columns\n",
    "for y in range(0, height, cell_size):\n",
    "    for x in range(0, width, cell_size):\n",
    "        # Determine the current row and column of the chessboard\n",
    "        row = y // cell_size\n",
    "        colm  = x // cell_size\n",
    "        \n",
    "        # Skip cells where the sum of row and column is odd (for alternating pattern)\n",
    "        if (row + colm) % 2 != 0:\n",
    "            continue\n",
    "        \n",
    "        # Painting a white cell\n",
    "        chess_image[y:y+cell_size, x:x+cell_size] = 255\n",
    "\n",
    "# Save the generated chessboard image as a PNG file   \n",
    "cv2.imwrite('chessboard.png', chess_image)\n",
    "# Display the image using a grayscale color map\n",
    "plt.imshow(chess_image, cmap='gray') \n",
    "plt.show()"
   ]
  },
  {
   "cell_type": "markdown",
   "id": "8947b222",
   "metadata": {},
   "source": [
    "## TAREA 2: Crear una imagen estilo Mondrian (un ejemplo https://www3.gobiernodecanarias.org/medusa/ecoescuela/sa/2017/04/17/descubriendo-a-mondrian/ ) con las funciones de dibujo de OpenCV.\n",
    "\n",
    "En esta tarea se crea una imagen cuadrada en blanco de 800 píxel por cada lado, y mediante el uso de funciones de opencv se añadin líneas negras y rectángulos rojos, amarillo y azules para generar una imagen de estilo Mondrian. Finalmente se escribe en disco y se muestra la imagen"
   ]
  },
  {
   "cell_type": "code",
   "execution_count": 6,
   "id": "9604acaa",
   "metadata": {},
   "outputs": [
    {
     "data": {
      "image/png": "[encoded data removed]",
      "text/plain": [
       "<Figure size 640x480 with 1 Axes>"
      ]
     },
     "metadata": {},
     "output_type": "display_data"
    }
   ],
   "source": [
    "# Creating the image \n",
    "SIZE = 800\n",
    "NUMBER_OF_CHANNELS = 3\n",
    "mondrian = np.full((SIZE, SIZE, NUMBER_OF_CHANNELS), 255, dtype= np.uint8)\n",
    "\n",
    "# Adding lines\n",
    "# Vertical lines\n",
    "BLACK = (0,0,0)\n",
    "LINE_THICKNESS = 19\n",
    "cv2.line(mondrian, (100,0), (100, SIZE), BLACK, LINE_THICKNESS)\n",
    "cv2.line(mondrian, (200,0), (200, SIZE), BLACK, LINE_THICKNESS)\n",
    "cv2.line(mondrian, (600,0), (600, SIZE), BLACK, LINE_THICKNESS)\n",
    "cv2.line(mondrian, (700,0), (700, SIZE), BLACK, LINE_THICKNESS)\n",
    "\n",
    "# Horizontal lines\n",
    "cv2.line(mondrian, (0, 700), (SIZE, 700), BLACK, LINE_THICKNESS)\n",
    "cv2.line(mondrian, (0, 600), (SIZE, 600), BLACK, LINE_THICKNESS)\n",
    "cv2.line(mondrian, (0, 200), (SIZE, 200), BLACK, LINE_THICKNESS)\n",
    "cv2.line(mondrian, (0, 100), (SIZE, 100), BLACK, LINE_THICKNESS)\n",
    "\n",
    "# Adding figures\n",
    "\n",
    "# Colors and line definitions\n",
    "RED = (255, 0, 0)\n",
    "BLUE = (0, 0, 255)\n",
    "YELLOW = (255, 249, 3)\n",
    "HALF_LINE_THICKNESS = int(LINE_THICKNESS/2)\n",
    "\n",
    "# Red rectangles\n",
    "cv2.rectangle(mondrian, (200+HALF_LINE_THICKNESS, 600-HALF_LINE_THICKNESS), (600-HALF_LINE_THICKNESS, 200+HALF_LINE_THICKNESS), RED, -1)\n",
    "cv2.rectangle(mondrian, (0, 0), (100-HALF_LINE_THICKNESS, 100-HALF_LINE_THICKNESS), RED, -1)\n",
    "cv2.rectangle(mondrian, (700+HALF_LINE_THICKNESS, 200+HALF_LINE_THICKNESS), (800, 600-HALF_LINE_THICKNESS), RED, -1)\n",
    "cv2.rectangle(mondrian, (200+HALF_LINE_THICKNESS, 600+HALF_LINE_THICKNESS), (600-HALF_LINE_THICKNESS, 700-HALF_LINE_THICKNESS), RED, -1)\n",
    "cv2.rectangle(mondrian, (100+HALF_LINE_THICKNESS, 700+HALF_LINE_THICKNESS), (200-HALF_LINE_THICKNESS, 800), RED, -1)\n",
    "cv2.rectangle(mondrian, (700+HALF_LINE_THICKNESS, 700+HALF_LINE_THICKNESS), (800, 800), RED, -1)\n",
    "\n",
    "# Blue rectangles\n",
    "cv2.rectangle(mondrian, (200+HALF_LINE_THICKNESS, 700+HALF_LINE_THICKNESS), (600-HALF_LINE_THICKNESS, 800), BLUE, -1)\n",
    "cv2.rectangle(mondrian, (0, 200+HALF_LINE_THICKNESS), (100-HALF_LINE_THICKNESS, 600-HALF_LINE_THICKNESS), BLUE, -1)\n",
    "cv2.rectangle(mondrian, (600+HALF_LINE_THICKNESS, 700+HALF_LINE_THICKNESS), (700-HALF_LINE_THICKNESS, 800), BLUE, -1)\n",
    "cv2.rectangle(mondrian, (700+HALF_LINE_THICKNESS, 600+HALF_LINE_THICKNESS), (800, 700-HALF_LINE_THICKNESS), BLUE, -1)\n",
    "cv2.rectangle(mondrian, (600+HALF_LINE_THICKNESS, 100+HALF_LINE_THICKNESS), (700-HALF_LINE_THICKNESS, 200-HALF_LINE_THICKNESS), BLUE, -1)\n",
    "cv2.rectangle(mondrian, (100+HALF_LINE_THICKNESS, 600+HALF_LINE_THICKNESS), (200-HALF_LINE_THICKNESS, 700-HALF_LINE_THICKNESS), BLUE, -1)\n",
    "\n",
    "# Yellow rectangles\n",
    "cv2.rectangle(mondrian, (200+HALF_LINE_THICKNESS, 0), (600-HALF_LINE_THICKNESS, 100-HALF_LINE_THICKNESS), YELLOW, -1)\n",
    "cv2.rectangle(mondrian, (0,  800), (100-HALF_LINE_THICKNESS, 700+HALF_LINE_THICKNESS), YELLOW, -1)\n",
    "cv2.rectangle(mondrian, (600+HALF_LINE_THICKNESS,  600+HALF_LINE_THICKNESS), (700-HALF_LINE_THICKNESS, 700-HALF_LINE_THICKNESS), YELLOW, -1)\n",
    "cv2.rectangle(mondrian, (100+HALF_LINE_THICKNESS,  200+HALF_LINE_THICKNESS), (200-HALF_LINE_THICKNESS, 600-HALF_LINE_THICKNESS), YELLOW, -1)\n",
    "cv2.rectangle(mondrian, (700+HALF_LINE_THICKNESS,  100+HALF_LINE_THICKNESS), (800, 200-HALF_LINE_THICKNESS), YELLOW, -1)\n",
    "cv2.rectangle(mondrian, (600+HALF_LINE_THICKNESS,  200+HALF_LINE_THICKNESS), (700-HALF_LINE_THICKNESS, 600-HALF_LINE_THICKNESS), YELLOW, -1)\n",
    "\n",
    "\n",
    "# Saving mondrian image\n",
    "cv2.imwrite('mondrian.png', mondrian)\n",
    "# Displaying Mondrian like picture\n",
    "plt.imshow(mondrian)\n",
    "plt.show()"
   ]
  },
  {
   "cell_type": "markdown",
   "id": "799a8700",
   "metadata": {},
   "source": [
    "## TAREA 3: Modifica de forma libre los valores de un plano de la imagen."
   ]
  },
  {
   "cell_type": "markdown",
   "id": "19891980",
   "metadata": {},
   "source": [
    "## TAREA 4: Pintar círculos en las posiciones del píxel más claro y oscuro de la imagen ¿Si quisieras hacerlo sobre la zona 8x8 más clara/oscura?."
   ]
  },
  {
   "cell_type": "markdown",
   "id": "e538eea6",
   "metadata": {},
   "source": [
    "## TAREA 5: Llevar a cabo una propuesta propia de pop art."
   ]
  }
 ],
 "metadata": {
  "kernelspec": {
   "display_name": "VC_P1",
   "language": "python",
   "name": "python3"
  },
  "language_info": {
   "codemirror_mode": {
    "name": "ipython",
    "version": 3
   },
   "file_extension": ".py",
   "mimetype": "text/x-python",
   "name": "python",
   "nbconvert_exporter": "python",
   "pygments_lexer": "ipython3",
   "version": "3.11.5"
  }
 },
 "nbformat": 4,
 "nbformat_minor": 5
}
